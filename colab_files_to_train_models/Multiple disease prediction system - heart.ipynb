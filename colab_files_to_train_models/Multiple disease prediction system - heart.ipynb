# Importing the Dependencies
import numpy as np
import pandas as pd
from sklearn.model_selection import train_test_split
from sklearn.linear_model import LogisticRegression
from sklearn.preprocessing import StandardScaler
from sklearn.metrics import accuracy_score
import pickle

# Data Collection and Processing

# Loading the csv data to a Pandas DataFrame
heart_data = pd.read_csv('/content/heart.csv')

# Print first 5 rows of the dataset
print(heart_data.head())

# Print last 5 rows of the dataset
print(heart_data.tail())

# Number of rows and columns in the dataset
print(heart_data.shape)

# Getting some info about the data
print(heart_data.info())

# Checking for missing values
print(heart_data.isnull().sum())

# Statistical measures about the data
print(heart_data.describe())

# Checking the distribution of Target Variable
print(heart_data['target'].value_counts())

# Splitting the Features and Target
X = heart_data.drop(columns='target', axis=1)
Y = heart_data['target']

# Print X (features)
print(X)

# Print Y (target)
print(Y)

# Splitting the Data into Training data & Test Data
X_train, X_test, Y_train, Y_test = train_test_split(X, Y, test_size=0.2, stratify=Y, random_state=2)

print(X.shape, X_train.shape, X_test.shape)

# Feature Scaling (Standardizing the data)
scaler = StandardScaler()
X_train = scaler.fit_transform(X_train)
X_test = scaler.transform(X_test)

# Model Training - Logistic Regression
model = LogisticRegression(max_iter=200)
model.fit(X_train, Y_train)

# Model Evaluation - Accuracy Score

# Accuracy on training data
X_train_prediction = model.predict(X_train)
training_data_accuracy = accuracy_score(X_train_prediction, Y_train)
print('Accuracy on Training data : ', training_data_accuracy)

# Accuracy on test data
X_test_prediction = model.predict(X_test)
test_data_accuracy = accuracy_score(X_test_prediction, Y_test)
print('Accuracy on Test data : ', test_data_accuracy)

# Building a Predictive System
input_data = (62, 0, 0, 140, 268, 0, 0, 160, 0, 3.6, 0, 2, 2)

# Change the input data to a numpy array
input_data_as_numpy_array = np.asarray(input_data)

# Reshape the numpy array as we are predicting for only one instance
input_data_reshaped = input_data_as_numpy_array.reshape(1, -1)

# Predicting the result
prediction = model.predict(pd.DataFrame(input_data_reshaped, columns=X.columns))

# Output the prediction
if prediction[0] == 0:
    print('The Person does not have a Heart Disease')
else:
    print('The Person has Heart Disease')

# Saving the trained model
filename = 'heart_disease_model.sav'
pickle.dump(model, open(filename, 'wb'))

# Loading the saved model (if needed in the future)
loaded_model = pickle.load(open('heart_disease_model.sav', 'rb'))

# Print feature names
for column in X.columns:
    print(column)
